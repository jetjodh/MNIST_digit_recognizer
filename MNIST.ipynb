{
 "cells": [
  {
   "cell_type": "code",
   "execution_count": 17,
   "metadata": {},
   "outputs": [],
   "source": [
    "import numpy as np\n",
    "import pandas as pd\n",
    "from keras.layers import Dense\n",
    "from keras.models import Sequential\n",
    "from keras.layers import Dropout\n",
    "from keras.layers import Flatten\n",
    "from keras.layers.convolutional import Conv2D\n",
    "from keras.layers.convolutional import MaxPooling2D\n",
    "from keras.utils import np_utils\n",
    "from keras.applications.vgg16 import preprocess_input"
   ]
  },
  {
   "cell_type": "code",
   "execution_count": 18,
   "metadata": {},
   "outputs": [
    {
     "ename": "NameError",
     "evalue": "name 'numpy' is not defined",
     "output_type": "error",
     "traceback": [
      "\u001b[1;31m---------------------------------------------------------------------------\u001b[0m",
      "\u001b[1;31mNameError\u001b[0m                                 Traceback (most recent call last)",
      "\u001b[1;32m<ipython-input-18-db5766c99e92>\u001b[0m in \u001b[0;36m<module>\u001b[1;34m()\u001b[0m\n\u001b[0;32m      2\u001b[0m \u001b[1;31m# fix random seed for reproducibility\u001b[0m\u001b[1;33m\u001b[0m\u001b[1;33m\u001b[0m\u001b[0m\n\u001b[0;32m      3\u001b[0m \u001b[0mseed\u001b[0m \u001b[1;33m=\u001b[0m \u001b[1;36m7\u001b[0m\u001b[1;33m\u001b[0m\u001b[0m\n\u001b[1;32m----> 4\u001b[1;33m \u001b[0mnumpy\u001b[0m\u001b[1;33m.\u001b[0m\u001b[0mrandom\u001b[0m\u001b[1;33m.\u001b[0m\u001b[0mseed\u001b[0m\u001b[1;33m(\u001b[0m\u001b[0mseed\u001b[0m\u001b[1;33m)\u001b[0m\u001b[1;33m\u001b[0m\u001b[0m\n\u001b[0m\u001b[0;32m      5\u001b[0m \u001b[0my_train\u001b[0m \u001b[1;33m=\u001b[0m \u001b[0mnp_utils\u001b[0m\u001b[1;33m.\u001b[0m\u001b[0mto_categorical\u001b[0m\u001b[1;33m(\u001b[0m\u001b[0mpredictors\u001b[0m\u001b[1;33m[\u001b[0m\u001b[1;34m\"label\"\u001b[0m\u001b[1;33m]\u001b[0m\u001b[1;33m)\u001b[0m\u001b[1;33m\u001b[0m\u001b[0m\n\u001b[0;32m      6\u001b[0m \u001b[0mx_train\u001b[0m \u001b[1;33m=\u001b[0m \u001b[1;33m(\u001b[0m\u001b[0mpredictors\u001b[0m\u001b[1;33m.\u001b[0m\u001b[0miloc\u001b[0m\u001b[1;33m[\u001b[0m\u001b[1;33m:\u001b[0m\u001b[1;33m,\u001b[0m\u001b[1;36m1\u001b[0m\u001b[1;33m:\u001b[0m\u001b[1;33m]\u001b[0m\u001b[1;33m.\u001b[0m\u001b[0mvalues\u001b[0m\u001b[1;33m)\u001b[0m\u001b[1;33m.\u001b[0m\u001b[0mastype\u001b[0m\u001b[1;33m(\u001b[0m\u001b[1;34m'float32'\u001b[0m\u001b[1;33m)\u001b[0m\u001b[1;33m/\u001b[0m\u001b[1;36m255\u001b[0m\u001b[1;33m\u001b[0m\u001b[0m\n",
      "\u001b[1;31mNameError\u001b[0m: name 'numpy' is not defined"
     ]
    }
   ],
   "source": [
    "predictors=pd.read_csv('train.csv')\n",
    "# fix random seed for reproducibility\n",
    "seed = 7\n",
    "np.random.seed(seed)\n",
    "y_train = np_utils.to_categorical(predictors[\"label\"])\n",
    "x_train = (predictors.iloc[:,1:].values).astype('float32')/255\n",
    "n_cols=y_train.shape\n",
    "data=pd.read_csv('test.csv')\n",
    "x_test=data.values.astype('float32')/255\n",
    "n_col=x_train.shape\n"
   ]
  },
  {
   "cell_type": "code",
   "execution_count": 10,
   "metadata": {},
   "outputs": [
    {
     "name": "stdout",
     "output_type": "stream",
     "text": [
      "(42000, 10)\n",
      "(42000, 784)\n"
     ]
    }
   ],
   "source": [
    "print(n_cols)\n",
    "print(n_col)"
   ]
  },
  {
   "cell_type": "code",
   "execution_count": 11,
   "metadata": {},
   "outputs": [],
   "source": [
    "model=Sequential()\n",
    "model.add(Dense(30,activation='relu',input_shape=(784,)))\n",
    "model.add(Dense(50,activation='relu'))\n",
    "model.add(Dense(100,activation='relu'))\n",
    "model.add(Dense(220,activation='relu'))\n",
    "model.add(Dense(75,activation='relu'))\n",
    "model.add(Dense(20,activation='relu'))\n",
    "model.add(Dense(10,activation='softmax'))\n",
    "model.compile(optimizer='adam',loss='categorical_crossentropy',metrics=['accuracy'])"
   ]
  },
  {
   "cell_type": "code",
   "execution_count": 14,
   "metadata": {},
   "outputs": [
    {
     "name": "stdout",
     "output_type": "stream",
     "text": [
      "Train on 29399 samples, validate on 12601 samples\n",
      "Epoch 1/20\n",
      "29399/29399 [==============================] - 9s 318us/step - loss: 0.1495 - acc: 0.9543 - val_loss: 0.1611 - val_acc: 0.9545\n",
      "Epoch 2/20\n",
      "29399/29399 [==============================] - 8s 269us/step - loss: 0.0939 - acc: 0.9708 - val_loss: 0.1828 - val_acc: 0.9506\n",
      "Epoch 3/20\n",
      "29399/29399 [==============================] - 8s 268us/step - loss: 0.0813 - acc: 0.9743 - val_loss: 0.1657 - val_acc: 0.9550\n",
      "Epoch 4/20\n",
      "29399/29399 [==============================] - 8s 265us/step - loss: 0.0743 - acc: 0.9769 - val_loss: 0.1589 - val_acc: 0.9572\n",
      "Epoch 5/20\n",
      "29399/29399 [==============================] - 8s 289us/step - loss: 0.0684 - acc: 0.9785 - val_loss: 0.1569 - val_acc: 0.9591\n",
      "Epoch 6/20\n",
      "29399/29399 [==============================] - 8s 270us/step - loss: 0.0611 - acc: 0.9803 - val_loss: 0.1726 - val_acc: 0.9571\n",
      "Epoch 7/20\n",
      "29399/29399 [==============================] - 8s 280us/step - loss: 0.0604 - acc: 0.9810 - val_loss: 0.1494 - val_acc: 0.9613\n",
      "Epoch 8/20\n",
      "29399/29399 [==============================] - 8s 288us/step - loss: 0.0552 - acc: 0.9820 - val_loss: 0.2208 - val_acc: 0.9474\n",
      "Epoch 9/20\n",
      "29399/29399 [==============================] - 9s 294us/step - loss: 0.0493 - acc: 0.9842 - val_loss: 0.1583 - val_acc: 0.9617\n",
      "Epoch 10/20\n",
      "29399/29399 [==============================] - 8s 283us/step - loss: 0.0521 - acc: 0.9838 - val_loss: 0.1473 - val_acc: 0.9658\n",
      "Epoch 11/20\n",
      "29399/29399 [==============================] - 8s 275us/step - loss: 0.0467 - acc: 0.9847 - val_loss: 0.1550 - val_acc: 0.9649\n",
      "Epoch 12/20\n",
      "29399/29399 [==============================] - 8s 281us/step - loss: 0.0425 - acc: 0.9860 - val_loss: 0.1511 - val_acc: 0.9637\n",
      "Epoch 13/20\n",
      "29399/29399 [==============================] - 8s 271us/step - loss: 0.0391 - acc: 0.9873 - val_loss: 0.1747 - val_acc: 0.9587\n",
      "Epoch 14/20\n",
      "29399/29399 [==============================] - 8s 279us/step - loss: 0.0347 - acc: 0.9896 - val_loss: 0.2037 - val_acc: 0.9580\n",
      "Epoch 15/20\n",
      "29399/29399 [==============================] - 8s 271us/step - loss: 0.0435 - acc: 0.9863 - val_loss: 0.1913 - val_acc: 0.9595\n",
      "Epoch 16/20\n",
      "29399/29399 [==============================] - 8s 281us/step - loss: 0.0351 - acc: 0.9889 - val_loss: 0.1724 - val_acc: 0.9625\n",
      "Epoch 17/20\n",
      "29399/29399 [==============================] - 8s 278us/step - loss: 0.0320 - acc: 0.9903 - val_loss: 0.1595 - val_acc: 0.9657\n",
      "Epoch 18/20\n",
      "29399/29399 [==============================] - 8s 279us/step - loss: 0.0329 - acc: 0.9902 - val_loss: 0.1891 - val_acc: 0.9598\n",
      "Epoch 19/20\n",
      "29399/29399 [==============================] - 8s 277us/step - loss: 0.0319 - acc: 0.9902 - val_loss: 0.1976 - val_acc: 0.9626\n",
      "Epoch 20/20\n",
      "29399/29399 [==============================] - 9s 294us/step - loss: 0.0318 - acc: 0.9906 - val_loss: 0.1751 - val_acc: 0.9645\n"
     ]
    },
    {
     "data": {
      "text/plain": [
       "<keras.callbacks.History at 0x12a99e92358>"
      ]
     },
     "execution_count": 14,
     "metadata": {},
     "output_type": "execute_result"
    }
   ],
   "source": [
    "model.fit(x_train,y_train,epochs=20,validation_split=0.3)"
   ]
  },
  {
   "cell_type": "code",
   "execution_count": 15,
   "metadata": {},
   "outputs": [],
   "source": [
    "predictions = model.predict_classes(x_test, verbose=0)"
   ]
  },
  {
   "cell_type": "code",
   "execution_count": 16,
   "metadata": {},
   "outputs": [],
   "source": [
    "submissions=pd.DataFrame({\"ImageId\": list(range(1,len(predictions)+1)),\n",
    "                         \"Label\": predictions})\n",
    "submissions.to_csv(\"DR.csv\", index=False, header=True)"
   ]
  },
  {
   "cell_type": "code",
   "execution_count": null,
   "metadata": {},
   "outputs": [],
   "source": []
  },
  {
   "cell_type": "code",
   "execution_count": null,
   "metadata": {},
   "outputs": [],
   "source": []
  }
 ],
 "metadata": {
  "kernelspec": {
   "display_name": "Python 3",
   "language": "python",
   "name": "python3"
  },
  "language_info": {
   "codemirror_mode": {
    "name": "ipython",
    "version": 3
   },
   "file_extension": ".py",
   "mimetype": "text/x-python",
   "name": "python",
   "nbconvert_exporter": "python",
   "pygments_lexer": "ipython3",
   "version": "3.6.5"
  }
 },
 "nbformat": 4,
 "nbformat_minor": 2
}
